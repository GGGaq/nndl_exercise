{
 "cells": [
  {
   "cell_type": "markdown",
   "metadata": {},
   "source": [
    "## 准备数据"
   ]
  },
  {
   "cell_type": "code",
   "execution_count": 1,
   "metadata": {},
   "outputs": [],
   "source": [
    "import os\n",
    "import numpy as np\n",
    "import tensorflow as tf\n",
    "from tensorflow import keras\n",
    "from tensorflow.keras import layers, optimizers, datasets\n",
    "\n",
    "os.environ['TF_CPP_MIN_LOG_LEVEL'] = '2'  # or any {'0', '1', '2'}\n",
    "\n",
    "def mnist_dataset():\n",
    "    (x, y), (x_test, y_test) = datasets.mnist.load_data()\n",
    "    #normalize\n",
    "    x = x/255.0\n",
    "    x_test = x_test/255.0\n",
    "    \n",
    "    return (x, y), (x_test, y_test)"
   ]
  },
  {
   "cell_type": "code",
   "execution_count": 2,
   "metadata": {},
   "outputs": [
    {
     "name": "stdout",
     "output_type": "stream",
     "text": [
      "[(1, 'a'), (2, 'b'), (3, 'c'), (4, 'd')]\n"
     ]
    }
   ],
   "source": [
    "print(list(zip([1, 2, 3, 4], ['a', 'b', 'c', 'd'])))"
   ]
  },
  {
   "cell_type": "markdown",
   "metadata": {},
   "source": [
    "## 建立模型"
   ]
  },
  {
   "cell_type": "code",
   "execution_count": 3,
   "metadata": {},
   "outputs": [],
   "source": [
    "class myModel:\n",
    "    def __init__(self):\n",
    "        ####################\n",
    "        '''声明模型对应的参数'''\n",
    "        ####################\n",
    "        self.hidden_layer_size = 256\n",
    "        self.input_size = 28 * 28\n",
    "        self.output_size = 10\n",
    "        self.W1 = tf.Variable(tf.random.uniform(shape=[self.input_size, self.hidden_layer_size], minval=-0.1, maxval=0.1))\n",
    "        self.b1 = tf.Variable(tf.zeros(self.hidden_layer_size))\n",
    "        self.W2 = tf.Variable(tf.random.uniform(shape=[self.hidden_layer_size, self.output_size], minval=-0.1, maxval=0.1))\n",
    "        self.b2 = tf.Variable(tf.zeros(self.output_size))\n",
    "    def __call__(self, x):\n",
    "        ####################\n",
    "        '''实现模型函数体，返回未归一化的logits'''\n",
    "        ####################\n",
    "\n",
    "        x_flattened = tf.reshape(x, [-1, self.input_size])\n",
    "        hidden_layer = tf.nn.relu(tf.matmul(x_flattened, self.W1) + self.b1)\n",
    "        logits = tf.matmul(hidden_layer, self.W2) + self.b2\n",
    "        return logits\n",
    "        \n",
    "model = myModel()\n",
    "\n",
    "optimizer = optimizers.Adam()"
   ]
  },
  {
   "cell_type": "markdown",
   "metadata": {},
   "source": [
    "## 计算 loss"
   ]
  },
  {
   "cell_type": "code",
   "execution_count": 4,
   "metadata": {},
   "outputs": [],
   "source": [
    "@tf.function\n",
    "def compute_loss(logits, labels):\n",
    "    return tf.reduce_mean(\n",
    "        tf.nn.sparse_softmax_cross_entropy_with_logits(\n",
    "            logits=logits, labels=labels))\n",
    "\n",
    "@tf.function\n",
    "def compute_accuracy(logits, labels):\n",
    "    predictions = tf.argmax(logits, axis=1)\n",
    "    return tf.reduce_mean(tf.cast(tf.equal(predictions, labels), tf.float32))\n",
    "\n",
    "@tf.function\n",
    "def train_one_step(model, optimizer, x, y):\n",
    "    with tf.GradientTape() as tape:\n",
    "        print(x.shape)\n",
    "        logits = model(x)\n",
    "        loss = compute_loss(logits, y)\n",
    "\n",
    "    # compute gradient\n",
    "    trainable_vars = [model.W1, model.W2, model.b1, model.b2]\n",
    "    grads = tape.gradient(loss, trainable_vars)\n",
    "    for g, v in zip(grads, trainable_vars):\n",
    "        v.assign_sub(0.01*g)\n",
    "\n",
    "    accuracy = compute_accuracy(logits, y)\n",
    "\n",
    "    # loss and accuracy is scalar tensor\n",
    "    return loss, accuracy\n",
    "\n",
    "@tf.function\n",
    "def test(model, x, y):\n",
    "    logits = model(x)\n",
    "    loss = compute_loss(logits, y)\n",
    "    accuracy = compute_accuracy(logits, y)\n",
    "    return loss, accuracy"
   ]
  },
  {
   "cell_type": "markdown",
   "metadata": {},
   "source": [
    "## 实际训练"
   ]
  },
  {
   "cell_type": "code",
   "execution_count": 5,
   "metadata": {},
   "outputs": [
    {
     "name": "stdout",
     "output_type": "stream",
     "text": [
      "(60000, 28, 28)\n",
      "epoch 0 : loss 2.414067 ; accuracy 0.12268333\n",
      "epoch 1 : loss 2.400968 ; accuracy 0.12588333\n",
      "epoch 2 : loss 2.388497 ; accuracy 0.12955\n",
      "epoch 3 : loss 2.3765824 ; accuracy 0.13321666\n",
      "epoch 4 : loss 2.365165 ; accuracy 0.13703333\n",
      "epoch 5 : loss 2.35419 ; accuracy 0.14078334\n",
      "epoch 6 : loss 2.3436127 ; accuracy 0.14433333\n",
      "epoch 7 : loss 2.333394 ; accuracy 0.14875\n",
      "epoch 8 : loss 2.3234994 ; accuracy 0.15341666\n",
      "epoch 9 : loss 2.3138988 ; accuracy 0.15751667\n",
      "epoch 10 : loss 2.304565 ; accuracy 0.16218333\n",
      "epoch 11 : loss 2.2954755 ; accuracy 0.16718334\n",
      "epoch 12 : loss 2.28661 ; accuracy 0.17201667\n",
      "epoch 13 : loss 2.2779484 ; accuracy 0.17756666\n",
      "epoch 14 : loss 2.2694757 ; accuracy 0.18341666\n",
      "epoch 15 : loss 2.2611752 ; accuracy 0.18956667\n",
      "epoch 16 : loss 2.2530346 ; accuracy 0.19628334\n",
      "epoch 17 : loss 2.2450411 ; accuracy 0.20345\n",
      "epoch 18 : loss 2.2371843 ; accuracy 0.21078333\n",
      "epoch 19 : loss 2.2294528 ; accuracy 0.21826667\n",
      "epoch 20 : loss 2.2218375 ; accuracy 0.22671667\n",
      "epoch 21 : loss 2.2143312 ; accuracy 0.23456667\n",
      "epoch 22 : loss 2.206926 ; accuracy 0.24255\n",
      "epoch 23 : loss 2.1996167 ; accuracy 0.25095\n",
      "epoch 24 : loss 2.192395 ; accuracy 0.2593\n",
      "epoch 25 : loss 2.185256 ; accuracy 0.26805\n",
      "epoch 26 : loss 2.1781943 ; accuracy 0.27553332\n",
      "epoch 27 : loss 2.1712053 ; accuracy 0.2837\n",
      "epoch 28 : loss 2.164284 ; accuracy 0.29216668\n",
      "epoch 29 : loss 2.1574266 ; accuracy 0.29956666\n",
      "epoch 30 : loss 2.1506302 ; accuracy 0.30781665\n",
      "epoch 31 : loss 2.1438904 ; accuracy 0.31565\n",
      "epoch 32 : loss 2.1372044 ; accuracy 0.32333332\n",
      "epoch 33 : loss 2.1305687 ; accuracy 0.33073333\n",
      "epoch 34 : loss 2.1239808 ; accuracy 0.33835\n",
      "epoch 35 : loss 2.1174371 ; accuracy 0.34563333\n",
      "epoch 36 : loss 2.1109369 ; accuracy 0.35348332\n",
      "epoch 37 : loss 2.1044774 ; accuracy 0.36028334\n",
      "epoch 38 : loss 2.0980568 ; accuracy 0.3669\n",
      "epoch 39 : loss 2.091673 ; accuracy 0.37406668\n",
      "epoch 40 : loss 2.085324 ; accuracy 0.38106668\n",
      "epoch 41 : loss 2.079008 ; accuracy 0.3874\n",
      "epoch 42 : loss 2.072724 ; accuracy 0.39368334\n",
      "epoch 43 : loss 2.0664704 ; accuracy 0.39983332\n",
      "epoch 44 : loss 2.0602458 ; accuracy 0.40578333\n",
      "epoch 45 : loss 2.0540493 ; accuracy 0.41158333\n",
      "epoch 46 : loss 2.0478787 ; accuracy 0.41701666\n",
      "epoch 47 : loss 2.0417342 ; accuracy 0.42253333\n",
      "epoch 48 : loss 2.0356138 ; accuracy 0.42775\n",
      "epoch 49 : loss 2.0295174 ; accuracy 0.43345\n",
      "test loss 2.0146534 ; accuracy 0.4428\n"
     ]
    }
   ],
   "source": [
    "train_data, test_data = mnist_dataset()\n",
    "for epoch in range(100):\n",
    "    loss, accuracy = train_one_step(model, optimizer, \n",
    "                                    tf.constant(train_data[0], dtype=tf.float32), \n",
    "                                    tf.constant(train_data[1], dtype=tf.int64))\n",
    "    print('epoch', epoch, ': loss', loss.numpy(), '; accuracy', accuracy.numpy())\n",
    "loss, accuracy = test(model, \n",
    "                      tf.constant(test_data[0], dtype=tf.float32), \n",
    "                      tf.constant(test_data[1], dtype=tf.int64))\n",
    "\n",
    "print('test loss', loss.numpy(), '; accuracy', accuracy.numpy())"
   ]
  }
 ],
 "metadata": {
  "kernelspec": {
   "display_name": "Python 3",
   "language": "python",
   "name": "python3"
  },
  "language_info": {
   "codemirror_mode": {
    "name": "ipython",
    "version": 3
   },
   "file_extension": ".py",
   "mimetype": "text/x-python",
   "name": "python",
   "nbconvert_exporter": "python",
   "pygments_lexer": "ipython3",
   "version": "3.7.1"
  }
 },
 "nbformat": 4,
 "nbformat_minor": 2
}
