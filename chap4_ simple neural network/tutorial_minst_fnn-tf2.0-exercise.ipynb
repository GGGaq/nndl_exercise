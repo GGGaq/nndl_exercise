{
 "cells": [
  {
   "cell_type": "markdown",
   "metadata": {},
   "source": [
    "## 准备数据"
   ]
  },
  {
   "cell_type": "code",
   "execution_count": 1,
   "metadata": {},
   "outputs": [],
   "source": [
    "import os\n",
    "import numpy as np\n",
    "import tensorflow as tf\n",
    "from tensorflow import keras\n",
    "from tensorflow.keras import layers, optimizers, datasets\n",
    "\n",
    "os.environ['TF_CPP_MIN_LOG_LEVEL'] = '2'  # or any {'0', '1', '2'}\n",
    "\n",
    "def mnist_dataset():\n",
    "    (x, y), (x_test, y_test) = datasets.mnist.load_data()\n",
    "    #normalize\n",
    "    x = x/255.0\n",
    "    x_test = x_test/255.0\n",
    "    \n",
    "    return (x, y), (x_test, y_test)"
   ]
  },
  {
   "cell_type": "code",
   "execution_count": 2,
   "metadata": {},
   "outputs": [
    {
     "name": "stdout",
     "output_type": "stream",
     "text": [
      "[(1, 'a'), (2, 'b'), (3, 'c'), (4, 'd')]\n"
     ]
    }
   ],
   "source": [
    "print(list(zip([1, 2, 3, 4], ['a', 'b', 'c', 'd'])))"
   ]
  },
  {
   "cell_type": "markdown",
   "metadata": {},
   "source": [
    "## 建立模型"
   ]
  },
  {
   "cell_type": "code",
   "execution_count": 3,
   "metadata": {},
   "outputs": [],
   "source": [
    "class myModel:\n",
    "    def __init__(self):\n",
    "        ####################\n",
    "        '''声明模型对应的参数'''\n",
    "        ####################\n",
    "        self.hidden_layer_size = 256\n",
    "        self.input_size = 28 * 28\n",
    "        self.output_size = 10\n",
    "        self.W1 = tf.Variable(tf.random.uniform(shape=[self.input_size, self.hidden_layer_size], minval=-0.1, maxval=0.1))\n",
    "        self.b1 = tf.Variable(tf.zeros(self.hidden_layer_size))\n",
    "        self.W2 = tf.Variable(tf.random.uniform(shape=[self.hidden_layer_size, self.output_size], minval=-0.1, maxval=0.1))\n",
    "        self.b2 = tf.Variable(tf.zeros(self.output_size))\n",
    "    def __call__(self, x):\n",
    "        ####################\n",
    "        '''实现模型函数体，返回未归一化的logits'''\n",
    "        ####################\n",
    "\n",
    "        x_flattened = tf.reshape(x, [-1, self.input_size])\n",
    "        hidden_layer = tf.nn.relu(tf.matmul(x_flattened, self.W1) + self.b1)\n",
    "        logits = tf.matmul(hidden_layer, self.W2) + self.b2\n",
    "        return logits\n",
    "        \n",
    "model = myModel()\n",
    "\n",
    "optimizer = optimizers.Adam()"
   ]
  },
  {
   "cell_type": "markdown",
   "metadata": {},
   "source": [
    "## 计算 loss"
   ]
  },
  {
   "cell_type": "code",
   "execution_count": 4,
   "metadata": {},
   "outputs": [],
   "source": [
    "@tf.function\n",
    "def compute_loss(logits, labels):\n",
    "    return tf.reduce_mean(\n",
    "        tf.nn.sparse_softmax_cross_entropy_with_logits(\n",
    "            logits=logits, labels=labels))\n",
    "\n",
    "@tf.function\n",
    "def compute_accuracy(logits, labels):\n",
    "    predictions = tf.argmax(logits, axis=1)\n",
    "    return tf.reduce_mean(tf.cast(tf.equal(predictions, labels), tf.float32))\n",
    "\n",
    "@tf.function\n",
    "def train_one_step(model, optimizer, x, y):\n",
    "    with tf.GradientTape() as tape:\n",
    "        print(x.shape)\n",
    "        logits = model(x)\n",
    "        loss = compute_loss(logits, y)\n",
    "\n",
    "    # compute gradient\n",
    "    trainable_vars = [model.W1, model.W2, model.b1, model.b2]\n",
    "    grads = tape.gradient(loss, trainable_vars)\n",
    "    for g, v in zip(grads, trainable_vars):\n",
    "        v.assign_sub(0.01*g)\n",
    "\n",
    "    accuracy = compute_accuracy(logits, y)\n",
    "\n",
    "    # loss and accuracy is scalar tensor\n",
    "    return loss, accuracy\n",
    "\n",
    "@tf.function\n",
    "def test(model, x, y):\n",
    "    logits = model(x)\n",
    "    loss = compute_loss(logits, y)\n",
    "    accuracy = compute_accuracy(logits, y)\n",
    "    return loss, accuracy"
   ]
  },
  {
   "cell_type": "markdown",
   "metadata": {},
   "source": [
    "## 实际训练"
   ]
  },
  {
   "cell_type": "code",
   "execution_count": 7,
   "metadata": {},
   "outputs": [
    {
     "name": "stdout",
     "output_type": "stream",
     "text": [
      "epoch 0 : loss 1.489975 ; accuracy 0.7148\n",
      "epoch 1 : loss 1.48537 ; accuracy 0.71611667\n",
      "epoch 2 : loss 1.4807819 ; accuracy 0.71735\n",
      "epoch 3 : loss 1.4762108 ; accuracy 0.71875\n",
      "epoch 4 : loss 1.4716566 ; accuracy 0.7198833\n",
      "epoch 5 : loss 1.4671187 ; accuracy 0.72095\n",
      "epoch 6 : loss 1.462598 ; accuracy 0.72215\n",
      "epoch 7 : loss 1.458094 ; accuracy 0.7234\n",
      "epoch 8 : loss 1.4536073 ; accuracy 0.72461665\n",
      "epoch 9 : loss 1.4491378 ; accuracy 0.7255833\n",
      "epoch 10 : loss 1.4446853 ; accuracy 0.7265667\n",
      "epoch 11 : loss 1.44025 ; accuracy 0.72805\n",
      "epoch 12 : loss 1.435832 ; accuracy 0.72898334\n",
      "epoch 13 : loss 1.4314312 ; accuracy 0.73011667\n",
      "epoch 14 : loss 1.4270476 ; accuracy 0.73075\n",
      "epoch 15 : loss 1.4226812 ; accuracy 0.7317\n",
      "epoch 16 : loss 1.4183323 ; accuracy 0.7327167\n",
      "epoch 17 : loss 1.4140003 ; accuracy 0.7337833\n",
      "epoch 18 : loss 1.4096862 ; accuracy 0.73478335\n",
      "epoch 19 : loss 1.4053893 ; accuracy 0.73573333\n",
      "epoch 20 : loss 1.4011102 ; accuracy 0.7367333\n",
      "epoch 21 : loss 1.3968484 ; accuracy 0.7374167\n",
      "epoch 22 : loss 1.3926047 ; accuracy 0.73843336\n",
      "epoch 23 : loss 1.3883785 ; accuracy 0.73935\n",
      "epoch 24 : loss 1.3841698 ; accuracy 0.7403333\n",
      "epoch 25 : loss 1.3799787 ; accuracy 0.74116665\n",
      "epoch 26 : loss 1.3758055 ; accuracy 0.74198335\n",
      "epoch 27 : loss 1.3716495 ; accuracy 0.7428833\n",
      "epoch 28 : loss 1.3675119 ; accuracy 0.74378335\n",
      "epoch 29 : loss 1.3633919 ; accuracy 0.74446666\n",
      "epoch 30 : loss 1.3592894 ; accuracy 0.7453\n",
      "epoch 31 : loss 1.3552052 ; accuracy 0.7460333\n",
      "epoch 32 : loss 1.3511381 ; accuracy 0.74665\n",
      "epoch 33 : loss 1.3470888 ; accuracy 0.74721664\n",
      "epoch 34 : loss 1.3430573 ; accuracy 0.74813336\n",
      "epoch 35 : loss 1.3390435 ; accuracy 0.74903333\n",
      "epoch 36 : loss 1.3350472 ; accuracy 0.74986666\n",
      "epoch 37 : loss 1.331069 ; accuracy 0.7504\n",
      "epoch 38 : loss 1.3271089 ; accuracy 0.75121665\n",
      "epoch 39 : loss 1.3231664 ; accuracy 0.75208336\n",
      "epoch 40 : loss 1.319242 ; accuracy 0.753\n",
      "epoch 41 : loss 1.3153358 ; accuracy 0.7535667\n",
      "epoch 42 : loss 1.3114474 ; accuracy 0.7543333\n",
      "epoch 43 : loss 1.3075768 ; accuracy 0.75491667\n",
      "epoch 44 : loss 1.303724 ; accuracy 0.75581664\n",
      "epoch 45 : loss 1.2998888 ; accuracy 0.7566\n",
      "epoch 46 : loss 1.2960712 ; accuracy 0.7571833\n",
      "epoch 47 : loss 1.2922714 ; accuracy 0.75783336\n",
      "epoch 48 : loss 1.2884893 ; accuracy 0.7585833\n",
      "epoch 49 : loss 1.2847253 ; accuracy 0.75935\n",
      "epoch 50 : loss 1.2809789 ; accuracy 0.76\n",
      "epoch 51 : loss 1.2772502 ; accuracy 0.7607667\n",
      "epoch 52 : loss 1.2735393 ; accuracy 0.7615\n",
      "epoch 53 : loss 1.2698461 ; accuracy 0.7622167\n",
      "epoch 54 : loss 1.2661707 ; accuracy 0.7629833\n",
      "epoch 55 : loss 1.262513 ; accuracy 0.76358336\n",
      "epoch 56 : loss 1.2588726 ; accuracy 0.7640667\n",
      "epoch 57 : loss 1.2552495 ; accuracy 0.7647167\n",
      "epoch 58 : loss 1.2516445 ; accuracy 0.76538336\n",
      "epoch 59 : loss 1.2480565 ; accuracy 0.7661\n",
      "epoch 60 : loss 1.244486 ; accuracy 0.7664833\n",
      "epoch 61 : loss 1.2409331 ; accuracy 0.76708335\n",
      "epoch 62 : loss 1.2373974 ; accuracy 0.76743335\n",
      "epoch 63 : loss 1.2338793 ; accuracy 0.7678667\n",
      "epoch 64 : loss 1.2303784 ; accuracy 0.76823336\n",
      "epoch 65 : loss 1.2268945 ; accuracy 0.76881665\n",
      "epoch 66 : loss 1.2234284 ; accuracy 0.76951665\n",
      "epoch 67 : loss 1.2199795 ; accuracy 0.7701\n",
      "epoch 68 : loss 1.2165476 ; accuracy 0.77075\n",
      "epoch 69 : loss 1.213133 ; accuracy 0.77135\n",
      "epoch 70 : loss 1.2097356 ; accuracy 0.77173334\n",
      "epoch 71 : loss 1.2063552 ; accuracy 0.7722\n",
      "epoch 72 : loss 1.2029918 ; accuracy 0.7727\n",
      "epoch 73 : loss 1.1996455 ; accuracy 0.77323335\n",
      "epoch 74 : loss 1.196316 ; accuracy 0.7737667\n",
      "epoch 75 : loss 1.1930032 ; accuracy 0.77421665\n",
      "epoch 76 : loss 1.1897074 ; accuracy 0.77501667\n",
      "epoch 77 : loss 1.1864284 ; accuracy 0.77525\n",
      "epoch 78 : loss 1.1831664 ; accuracy 0.77595\n",
      "epoch 79 : loss 1.1799209 ; accuracy 0.7765333\n",
      "epoch 80 : loss 1.1766925 ; accuracy 0.77746665\n",
      "epoch 81 : loss 1.1734805 ; accuracy 0.77785\n",
      "epoch 82 : loss 1.1702851 ; accuracy 0.7783833\n",
      "epoch 83 : loss 1.1671063 ; accuracy 0.77856666\n",
      "epoch 84 : loss 1.1639438 ; accuracy 0.77898335\n",
      "epoch 85 : loss 1.1607972 ; accuracy 0.7794\n",
      "epoch 86 : loss 1.1576672 ; accuracy 0.77975\n",
      "epoch 87 : loss 1.1545534 ; accuracy 0.78028333\n",
      "epoch 88 : loss 1.1514556 ; accuracy 0.78066665\n",
      "epoch 89 : loss 1.148374 ; accuracy 0.7812667\n",
      "epoch 90 : loss 1.1453083 ; accuracy 0.7816667\n",
      "epoch 91 : loss 1.1422586 ; accuracy 0.78211665\n",
      "epoch 92 : loss 1.1392248 ; accuracy 0.78258336\n",
      "epoch 93 : loss 1.1362065 ; accuracy 0.78298336\n",
      "epoch 94 : loss 1.1332045 ; accuracy 0.7836\n",
      "epoch 95 : loss 1.1302179 ; accuracy 0.7840667\n",
      "epoch 96 : loss 1.1272475 ; accuracy 0.7844667\n",
      "epoch 97 : loss 1.124292 ; accuracy 0.78496665\n",
      "epoch 98 : loss 1.1213523 ; accuracy 0.7854667\n",
      "epoch 99 : loss 1.1184281 ; accuracy 0.786\n",
      "test loss 1.0905671 ; accuracy 0.7965\n"
     ]
    }
   ],
   "source": [
    "train_data, test_data = mnist_dataset()\n",
    "for epoch in range(100):\n",
    "    loss, accuracy = train_one_step(model, optimizer, \n",
    "                                    tf.constant(train_data[0], dtype=tf.float32), \n",
    "                                    tf.constant(train_data[1], dtype=tf.int64))\n",
    "    print('epoch', epoch, ': loss', loss.numpy(), '; accuracy', accuracy.numpy())\n",
    "loss, accuracy = test(model, \n",
    "                      tf.constant(test_data[0], dtype=tf.float32), \n",
    "                      tf.constant(test_data[1], dtype=tf.int64))\n",
    "\n",
    "print('test loss', loss.numpy(), '; accuracy', accuracy.numpy())"
   ]
  }
 ],
 "metadata": {
  "kernelspec": {
   "display_name": "Python 3",
   "language": "python",
   "name": "python3"
  },
  "language_info": {
   "codemirror_mode": {
    "name": "ipython",
    "version": 3
   },
   "file_extension": ".py",
   "mimetype": "text/x-python",
   "name": "python",
   "nbconvert_exporter": "python",
   "pygments_lexer": "ipython3",
   "version": "undefined.undefined.undefined"
  }
 },
 "nbformat": 4,
 "nbformat_minor": 2
}
